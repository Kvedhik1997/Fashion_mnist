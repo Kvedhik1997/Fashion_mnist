{
 "cells": [
  {
   "cell_type": "markdown",
   "id": "0d2176ae",
   "metadata": {},
   "source": [
    "# Introduction"
   ]
  },
  {
   "cell_type": "markdown",
   "id": "0db4bbbd",
   "metadata": {},
   "source": [
    "In this notebook we will be exploring and creating a deep learning model using the tensorflow dataset, fashion_mnist. This dataset consists of a training set of 60,000 samples and test set of 10,000 samples. These samples are in a 28x28 greyscale image associated with 1 of 10 classes. I will be creating a model to predict the class."
   ]
  },
  {
   "cell_type": "code",
   "execution_count": 40,
   "id": "7426d9b8",
   "metadata": {},
   "outputs": [],
   "source": [
    "from tensorflow.keras.datasets import fashion_mnist\n",
    "from tensorflow.keras.utils import to_categorical\n",
    "from tensorflow.keras.models import Sequential \n",
    "from collections import Counter\n",
    "import numpy as np\n",
    "from keras.layers import Conv2D, MaxPooling2D, Dropout, Dense, Flatten\n",
    "from tensorflow.keras.optimizers import Adam\n",
    "import matplotlib.pyplot as plt"
   ]
  },
  {
   "cell_type": "code",
   "execution_count": 21,
   "id": "23d83d25",
   "metadata": {},
   "outputs": [],
   "source": [
    "(X_train, y_train), (X_test, y_test) = fashion_mnist.load_data()"
   ]
  },
  {
   "cell_type": "code",
   "execution_count": 22,
   "id": "b052db1b",
   "metadata": {},
   "outputs": [
    {
     "data": {
      "text/plain": [
       "60000"
      ]
     },
     "execution_count": 22,
     "metadata": {},
     "output_type": "execute_result"
    }
   ],
   "source": [
    "len(X_train)"
   ]
  },
  {
   "cell_type": "code",
   "execution_count": 23,
   "id": "c060a60d",
   "metadata": {},
   "outputs": [
    {
     "data": {
      "text/plain": [
       "10000"
      ]
     },
     "execution_count": 23,
     "metadata": {},
     "output_type": "execute_result"
    }
   ],
   "source": [
    "len(X_test)"
   ]
  },
  {
   "cell_type": "code",
   "execution_count": 25,
   "id": "5eecec8e",
   "metadata": {},
   "outputs": [],
   "source": [
    "input_dim = 784  # 28*28\n",
    "output_dim = nb_classes = 10\n",
    "nb_epoch = 20\n",
    "\n",
    "X_train = X_train.reshape(60000, input_dim)\n",
    "X_test = X_test.reshape(10000, input_dim)\n",
    "X_train = X_train.astype('float32')\n",
    "X_test = X_test.astype('float32')\n",
    "X_train /= 255\n",
    "X_test /= 255"
   ]
  },
  {
   "cell_type": "code",
   "execution_count": 7,
   "id": "8b99ce61",
   "metadata": {},
   "outputs": [
    {
     "data": {
      "text/plain": [
       "Counter({9: 6000,\n",
       "         0: 6000,\n",
       "         3: 6000,\n",
       "         2: 6000,\n",
       "         7: 6000,\n",
       "         5: 6000,\n",
       "         1: 6000,\n",
       "         6: 6000,\n",
       "         4: 6000,\n",
       "         8: 6000})"
      ]
     },
     "execution_count": 7,
     "metadata": {},
     "output_type": "execute_result"
    }
   ],
   "source": [
    "Counter(y_train)"
   ]
  },
  {
   "cell_type": "markdown",
   "id": "432a9cc3",
   "metadata": {},
   "source": [
    "The training dataset is perfectly balanced"
   ]
  },
  {
   "cell_type": "code",
   "execution_count": 8,
   "id": "20bbbcc5",
   "metadata": {},
   "outputs": [],
   "source": [
    "Y_train = to_categorical(y_train, nb_classes)\n",
    "Y_test = to_categorical(y_test, nb_classes)"
   ]
  },
  {
   "cell_type": "markdown",
   "id": "f3cabd8f",
   "metadata": {},
   "source": [
    "# Models"
   ]
  },
  {
   "cell_type": "code",
   "execution_count": 27,
   "id": "20f09681",
   "metadata": {
    "scrolled": true
   },
   "outputs": [
    {
     "name": "stdout",
     "output_type": "stream",
     "text": [
      "Epoch 1/20\n",
      "469/469 [==============================] - 0s 650us/step - loss: 1.1322 - accuracy: 0.6499\n",
      "Epoch 2/20\n",
      "469/469 [==============================] - 0s 639us/step - loss: 0.6597 - accuracy: 0.7823\n",
      "Epoch 3/20\n",
      "469/469 [==============================] - 0s 656us/step - loss: 0.5683 - accuracy: 0.8105\n",
      "Epoch 4/20\n",
      "469/469 [==============================] - 0s 680us/step - loss: 0.5231 - accuracy: 0.8230\n",
      "Epoch 5/20\n",
      "469/469 [==============================] - 0s 637us/step - loss: 0.4966 - accuracy: 0.8284\n",
      "Epoch 6/20\n",
      "469/469 [==============================] - 0s 641us/step - loss: 0.4763 - accuracy: 0.8349\n",
      "Epoch 7/20\n",
      "469/469 [==============================] - 0s 643us/step - loss: 0.4626 - accuracy: 0.8389\n",
      "Epoch 8/20\n",
      "469/469 [==============================] - 0s 650us/step - loss: 0.4505 - accuracy: 0.8425\n",
      "Epoch 9/20\n",
      "469/469 [==============================] - 0s 639us/step - loss: 0.4404 - accuracy: 0.8469\n",
      "Epoch 10/20\n",
      "469/469 [==============================] - 0s 643us/step - loss: 0.4326 - accuracy: 0.8491\n",
      "Epoch 11/20\n",
      "469/469 [==============================] - 0s 639us/step - loss: 0.4245 - accuracy: 0.8522\n",
      "Epoch 12/20\n",
      "469/469 [==============================] - 0s 639us/step - loss: 0.4180 - accuracy: 0.8539\n",
      "Epoch 13/20\n",
      "469/469 [==============================] - 0s 654us/step - loss: 0.4124 - accuracy: 0.8561\n",
      "Epoch 14/20\n",
      "469/469 [==============================] - 0s 663us/step - loss: 0.4064 - accuracy: 0.8577\n",
      "Epoch 15/20\n",
      "469/469 [==============================] - 0s 648us/step - loss: 0.4008 - accuracy: 0.8603\n",
      "Epoch 16/20\n",
      "469/469 [==============================] - 0s 639us/step - loss: 0.3957 - accuracy: 0.8629\n",
      "Epoch 17/20\n",
      "469/469 [==============================] - 0s 654us/step - loss: 0.3920 - accuracy: 0.8627\n",
      "Epoch 18/20\n",
      "469/469 [==============================] - 0s 643us/step - loss: 0.3871 - accuracy: 0.8650\n",
      "Epoch 19/20\n",
      "469/469 [==============================] - 0s 637us/step - loss: 0.3829 - accuracy: 0.8656\n",
      "Epoch 20/20\n",
      "469/469 [==============================] - 0s 639us/step - loss: 0.3796 - accuracy: 0.8670\n"
     ]
    },
    {
     "data": {
      "text/plain": [
       "<keras.callbacks.History at 0x1a6b759bcd0>"
      ]
     },
     "execution_count": 27,
     "metadata": {},
     "output_type": "execute_result"
    }
   ],
   "source": [
    "model = Sequential()\n",
    "# our first dense layer\n",
    "model.add(Dense(128, input_shape=(784,), activation=\"relu\"))\n",
    "# our second dense layer\n",
    "model.add(Dense(64, activation=\"relu\"))\n",
    "# last layer is the output layer.\n",
    "model.add(Dense(10, activation=\"softmax\"))\n",
    "\n",
    "model.compile(optimizer='sgd', loss='categorical_crossentropy',\n",
    "              metrics=['accuracy'])\n",
    "\n",
    "# setting verbose=1 prints out some results after each epoch\n",
    "model.fit(X_train, Y_train, batch_size=128, epochs=20, verbose=1)"
   ]
  },
  {
   "cell_type": "code",
   "execution_count": 31,
   "id": "f7dcacd5",
   "metadata": {},
   "outputs": [
    {
     "name": "stdout",
     "output_type": "stream",
     "text": [
      "Test score: 0.4274953007698059\n",
      "Test accuracy: 0.8501999974250793\n"
     ]
    }
   ],
   "source": [
    "score = model.evaluate(X_test, Y_test, verbose=0)\n",
    "print('Test score:', score[0])\n",
    "print('Test accuracy:', score[1])"
   ]
  },
  {
   "cell_type": "code",
   "execution_count": 32,
   "id": "727b32b4",
   "metadata": {
    "scrolled": true
   },
   "outputs": [
    {
     "name": "stdout",
     "output_type": "stream",
     "text": [
      "Epoch 1/20\n",
      "469/469 [==============================] - 0s 701us/step - loss: 1.0312 - accuracy: 0.6813\n",
      "Epoch 2/20\n",
      "469/469 [==============================] - 0s 676us/step - loss: 0.6564 - accuracy: 0.7854\n",
      "Epoch 3/20\n",
      "469/469 [==============================] - 0s 667us/step - loss: 0.5687 - accuracy: 0.8090\n",
      "Epoch 4/20\n",
      "469/469 [==============================] - 0s 712us/step - loss: 0.5235 - accuracy: 0.8198\n",
      "Epoch 5/20\n",
      "469/469 [==============================] - 0s 701us/step - loss: 0.4949 - accuracy: 0.8281\n",
      "Epoch 6/20\n",
      "469/469 [==============================] - 0s 669us/step - loss: 0.4750 - accuracy: 0.8334\n",
      "Epoch 7/20\n",
      "469/469 [==============================] - 0s 669us/step - loss: 0.4596 - accuracy: 0.8390\n",
      "Epoch 8/20\n",
      "469/469 [==============================] - 0s 697us/step - loss: 0.4472 - accuracy: 0.8430\n",
      "Epoch 9/20\n",
      "469/469 [==============================] - 0s 671us/step - loss: 0.4375 - accuracy: 0.8467\n",
      "Epoch 10/20\n",
      "469/469 [==============================] - 0s 671us/step - loss: 0.4285 - accuracy: 0.8504\n",
      "Epoch 11/20\n",
      "469/469 [==============================] - 0s 660us/step - loss: 0.4208 - accuracy: 0.8516\n",
      "Epoch 12/20\n",
      "469/469 [==============================] - 0s 671us/step - loss: 0.4144 - accuracy: 0.8532\n",
      "Epoch 13/20\n",
      "469/469 [==============================] - 0s 688us/step - loss: 0.4081 - accuracy: 0.8559\n",
      "Epoch 14/20\n",
      "469/469 [==============================] - 0s 688us/step - loss: 0.4024 - accuracy: 0.8586\n",
      "Epoch 15/20\n",
      "469/469 [==============================] - 0s 718us/step - loss: 0.3973 - accuracy: 0.8603\n",
      "Epoch 16/20\n",
      "469/469 [==============================] - 0s 737us/step - loss: 0.3928 - accuracy: 0.8613\n",
      "Epoch 17/20\n",
      "469/469 [==============================] - 0s 707us/step - loss: 0.3883 - accuracy: 0.8621\n",
      "Epoch 18/20\n",
      "469/469 [==============================] - 0s 684us/step - loss: 0.3841 - accuracy: 0.8641\n",
      "Epoch 19/20\n",
      "469/469 [==============================] - 0s 671us/step - loss: 0.3808 - accuracy: 0.8657\n",
      "Epoch 20/20\n",
      "469/469 [==============================] - 0s 785us/step - loss: 0.3770 - accuracy: 0.8670\n"
     ]
    },
    {
     "data": {
      "text/plain": [
       "<keras.callbacks.History at 0x198a43458a0>"
      ]
     },
     "execution_count": 32,
     "metadata": {},
     "output_type": "execute_result"
    }
   ],
   "source": [
    "model = Sequential()\n",
    "model.add(Dense(128, input_shape=(784,), activation=\"tanh\"))\n",
    "model.add(Dense(64, activation=\"tanh\"))\n",
    "model.add(Dense(10, activation=\"softmax\"))\n",
    "model.compile(optimizer='sgd', loss='categorical_crossentropy',\n",
    "              metrics=['accuracy'])\n",
    "\n",
    "# setting verbose=1 prints out some results after each epoch\n",
    "model.fit(X_train, Y_train, batch_size=128, epochs=20, verbose=1)"
   ]
  },
  {
   "cell_type": "code",
   "execution_count": 33,
   "id": "cd5d7b81",
   "metadata": {},
   "outputs": [
    {
     "name": "stdout",
     "output_type": "stream",
     "text": [
      "Test score: 0.41445592045783997\n",
      "Test accuracy: 0.8507000207901001\n"
     ]
    }
   ],
   "source": [
    "score = model.evaluate(X_test, Y_test, verbose=0)\n",
    "print('Test score:', score[0])\n",
    "print('Test accuracy:', score[1])"
   ]
  },
  {
   "cell_type": "code",
   "execution_count": 34,
   "id": "f0b042cf",
   "metadata": {
    "scrolled": true
   },
   "outputs": [
    {
     "name": "stdout",
     "output_type": "stream",
     "text": [
      "Epoch 1/20\n",
      "469/469 [==============================] - 0s 671us/step - loss: 1.7437 - accuracy: 0.5469\n",
      "Epoch 2/20\n",
      "469/469 [==============================] - 0s 654us/step - loss: 1.1024 - accuracy: 0.7015\n",
      "Epoch 3/20\n",
      "469/469 [==============================] - 0s 654us/step - loss: 0.8779 - accuracy: 0.7357\n",
      "Epoch 4/20\n",
      "469/469 [==============================] - 0s 665us/step - loss: 0.7673 - accuracy: 0.7501\n",
      "Epoch 5/20\n",
      "469/469 [==============================] - 0s 712us/step - loss: 0.7024 - accuracy: 0.7607\n",
      "Epoch 6/20\n",
      "469/469 [==============================] - 0s 682us/step - loss: 0.6596 - accuracy: 0.7696\n",
      "Epoch 7/20\n",
      "469/469 [==============================] - 0s 714us/step - loss: 0.6284 - accuracy: 0.7776\n",
      "Epoch 8/20\n",
      "469/469 [==============================] - 0s 673us/step - loss: 0.6037 - accuracy: 0.7858\n",
      "Epoch 9/20\n",
      "469/469 [==============================] - 0s 679us/step - loss: 0.5835 - accuracy: 0.7936\n",
      "Epoch 10/20\n",
      "469/469 [==============================] - 0s 692us/step - loss: 0.5661 - accuracy: 0.7999\n",
      "Epoch 11/20\n",
      "469/469 [==============================] - 0s 695us/step - loss: 0.5515 - accuracy: 0.8058\n",
      "Epoch 12/20\n",
      "469/469 [==============================] - 0s 673us/step - loss: 0.5389 - accuracy: 0.8107\n",
      "Epoch 13/20\n",
      "469/469 [==============================] - 0s 718us/step - loss: 0.5278 - accuracy: 0.8148\n",
      "Epoch 14/20\n",
      "469/469 [==============================] - 0s 694us/step - loss: 0.5184 - accuracy: 0.8183\n",
      "Epoch 15/20\n",
      "469/469 [==============================] - 0s 660us/step - loss: 0.5099 - accuracy: 0.8214\n",
      "Epoch 16/20\n",
      "469/469 [==============================] - 0s 712us/step - loss: 0.5024 - accuracy: 0.8237\n",
      "Epoch 17/20\n",
      "469/469 [==============================] - 0s 701us/step - loss: 0.4954 - accuracy: 0.8262\n",
      "Epoch 18/20\n",
      "469/469 [==============================] - 0s 699us/step - loss: 0.4894 - accuracy: 0.8278\n",
      "Epoch 19/20\n",
      "469/469 [==============================] - 0s 678us/step - loss: 0.4838 - accuracy: 0.8296\n",
      "Epoch 20/20\n",
      "469/469 [==============================] - 0s 703us/step - loss: 0.4786 - accuracy: 0.8315\n"
     ]
    },
    {
     "data": {
      "text/plain": [
       "<keras.callbacks.History at 0x198a3d9ebf0>"
      ]
     },
     "execution_count": 34,
     "metadata": {},
     "output_type": "execute_result"
    }
   ],
   "source": [
    "model = Sequential()\n",
    "# our first dense layer\n",
    "model.add(Dense(128, input_shape=(784,), activation=\"sigmoid\"))\n",
    "# our second dense layer\n",
    "model.add(Dense(64, activation=\"tanh\"))\n",
    "# last layer is the output layer.\n",
    "model.add(Dense(10, activation=\"softmax\"))\n",
    "\n",
    "model.compile(optimizer='sgd', loss='categorical_crossentropy',\n",
    "              metrics=['accuracy'])\n",
    "\n",
    "# setting verbose=1 prints out some results after each epoch\n",
    "model.fit(X_train, Y_train, batch_size=128, epochs=20, verbose=1)"
   ]
  },
  {
   "cell_type": "code",
   "execution_count": 35,
   "id": "9c5bf3bd",
   "metadata": {},
   "outputs": [
    {
     "name": "stdout",
     "output_type": "stream",
     "text": [
      "Test score: 0.5035895705223083\n",
      "Test accuracy: 0.8179000020027161\n"
     ]
    }
   ],
   "source": [
    "score = model.evaluate(X_test, Y_test, verbose=0)\n",
    "print('Test score:', score[0])\n",
    "print('Test accuracy:', score[1])"
   ]
  },
  {
   "cell_type": "code",
   "execution_count": 36,
   "id": "75a1f665",
   "metadata": {
    "scrolled": true
   },
   "outputs": [
    {
     "name": "stdout",
     "output_type": "stream",
     "text": [
      "Epoch 1/20\n",
      "469/469 [==============================] - 0s 688us/step - loss: 1.0435 - accuracy: 0.0968\n",
      "Epoch 2/20\n",
      "469/469 [==============================] - 0s 686us/step - loss: 1.0118 - accuracy: 0.1713\n",
      "Epoch 3/20\n",
      "469/469 [==============================] - 0s 692us/step - loss: 1.0097 - accuracy: 0.2963\n",
      "Epoch 4/20\n",
      "469/469 [==============================] - 0s 703us/step - loss: 1.0079 - accuracy: 0.3957\n",
      "Epoch 5/20\n",
      "469/469 [==============================] - 0s 690us/step - loss: 1.0047 - accuracy: 0.4504\n",
      "Epoch 6/20\n",
      "469/469 [==============================] - 0s 699us/step - loss: 1.0005 - accuracy: 0.4729\n",
      "Epoch 7/20\n",
      "469/469 [==============================] - 0s 701us/step - loss: 0.9999 - accuracy: 0.4981\n",
      "Epoch 8/20\n",
      "469/469 [==============================] - 0s 682us/step - loss: 0.9995 - accuracy: 0.5221\n",
      "Epoch 9/20\n",
      "469/469 [==============================] - 0s 725us/step - loss: 0.9991 - accuracy: 0.5423\n",
      "Epoch 10/20\n",
      "469/469 [==============================] - 0s 690us/step - loss: 0.9988 - accuracy: 0.5613\n",
      "Epoch 11/20\n",
      "469/469 [==============================] - 0s 686us/step - loss: 0.9984 - accuracy: 0.5776\n",
      "Epoch 12/20\n",
      "469/469 [==============================] - 0s 722us/step - loss: 0.9981 - accuracy: 0.5936\n",
      "Epoch 13/20\n",
      "469/469 [==============================] - 0s 714us/step - loss: 0.9977 - accuracy: 0.6075\n",
      "Epoch 14/20\n",
      "469/469 [==============================] - 0s 695us/step - loss: 0.9974 - accuracy: 0.6201\n",
      "Epoch 15/20\n",
      "469/469 [==============================] - 0s 690us/step - loss: 0.9970 - accuracy: 0.6273\n",
      "Epoch 16/20\n",
      "469/469 [==============================] - 0s 692us/step - loss: 0.9966 - accuracy: 0.6366\n",
      "Epoch 17/20\n",
      "469/469 [==============================] - 0s 742us/step - loss: 0.9963 - accuracy: 0.6432\n",
      "Epoch 18/20\n",
      "469/469 [==============================] - 0s 718us/step - loss: 0.9959 - accuracy: 0.6465\n",
      "Epoch 19/20\n",
      "469/469 [==============================] - 0s 739us/step - loss: 0.9955 - accuracy: 0.6509\n",
      "Epoch 20/20\n",
      "469/469 [==============================] - 0s 716us/step - loss: 0.9951 - accuracy: 0.6532\n"
     ]
    },
    {
     "data": {
      "text/plain": [
       "<keras.callbacks.History at 0x198a725bb50>"
      ]
     },
     "execution_count": 36,
     "metadata": {},
     "output_type": "execute_result"
    }
   ],
   "source": [
    "model = Sequential()\n",
    "# our first dense layer\n",
    "model.add(Dense(128, input_shape=(784,), activation=\"sigmoid\"))\n",
    "# our second dense layer\n",
    "model.add(Dense(64, activation=\"sigmoid\"))\n",
    "# last layer is the output layer.\n",
    "model.add(Dense(10, activation=\"softmax\"))\n",
    "\n",
    "model.compile(optimizer='sgd', loss='categorical_hinge',\n",
    "              metrics=['accuracy'])\n",
    "\n",
    "# setting verbose=1 prints out some results after each epoch\n",
    "model.fit(X_train, Y_train, batch_size=128, epochs=20, verbose=1)"
   ]
  },
  {
   "cell_type": "code",
   "execution_count": 37,
   "id": "7cddf565",
   "metadata": {},
   "outputs": [
    {
     "name": "stdout",
     "output_type": "stream",
     "text": [
      "Test score: 0.9950706958770752\n",
      "Test accuracy: 0.6517999768257141\n"
     ]
    }
   ],
   "source": [
    "score = model.evaluate(X_test, Y_test, verbose=0)\n",
    "print('Test score:', score[0])\n",
    "print('Test accuracy:', score[1])"
   ]
  },
  {
   "cell_type": "code",
   "execution_count": 38,
   "id": "fda179b6",
   "metadata": {
    "scrolled": true
   },
   "outputs": [
    {
     "name": "stdout",
     "output_type": "stream",
     "text": [
      "Epoch 1/20\n",
      "469/469 [==============================] - 2s 5ms/step - loss: 2.3063 - accuracy: 0.1001\n",
      "Epoch 2/20\n",
      "469/469 [==============================] - 2s 5ms/step - loss: 2.3016 - accuracy: 0.1090\n",
      "Epoch 3/20\n",
      "469/469 [==============================] - 2s 5ms/step - loss: 2.3009 - accuracy: 0.1104\n",
      "Epoch 4/20\n",
      "469/469 [==============================] - 2s 5ms/step - loss: 2.3002 - accuracy: 0.1177\n",
      "Epoch 5/20\n",
      "469/469 [==============================] - 2s 5ms/step - loss: 2.2995 - accuracy: 0.1250\n",
      "Epoch 6/20\n",
      "469/469 [==============================] - 2s 5ms/step - loss: 2.2984 - accuracy: 0.1236\n",
      "Epoch 7/20\n",
      "469/469 [==============================] - 2s 5ms/step - loss: 2.2974 - accuracy: 0.1408\n",
      "Epoch 8/20\n",
      "469/469 [==============================] - 2s 5ms/step - loss: 2.2963 - accuracy: 0.1420\n",
      "Epoch 9/20\n",
      "469/469 [==============================] - 2s 5ms/step - loss: 2.2949 - accuracy: 0.1681\n",
      "Epoch 10/20\n",
      "469/469 [==============================] - 2s 5ms/step - loss: 2.2934 - accuracy: 0.1800\n",
      "Epoch 11/20\n",
      "469/469 [==============================] - 2s 5ms/step - loss: 2.2915 - accuracy: 0.1808\n",
      "Epoch 12/20\n",
      "469/469 [==============================] - 2s 5ms/step - loss: 2.2889 - accuracy: 0.1895\n",
      "Epoch 13/20\n",
      "469/469 [==============================] - 2s 5ms/step - loss: 2.2858 - accuracy: 0.2308\n",
      "Epoch 14/20\n",
      "469/469 [==============================] - 2s 5ms/step - loss: 2.2818 - accuracy: 0.2593\n",
      "Epoch 15/20\n",
      "469/469 [==============================] - 2s 5ms/step - loss: 2.2764 - accuracy: 0.2790\n",
      "Epoch 16/20\n",
      "469/469 [==============================] - 2s 5ms/step - loss: 2.2683 - accuracy: 0.3197\n",
      "Epoch 17/20\n",
      "469/469 [==============================] - 2s 5ms/step - loss: 2.2562 - accuracy: 0.3294\n",
      "Epoch 18/20\n",
      "469/469 [==============================] - 2s 5ms/step - loss: 2.2360 - accuracy: 0.3532\n",
      "Epoch 19/20\n",
      "469/469 [==============================] - 2s 5ms/step - loss: 2.1990 - accuracy: 0.3654\n",
      "Epoch 20/20\n",
      "469/469 [==============================] - 2s 5ms/step - loss: 2.1224 - accuracy: 0.3812\n"
     ]
    },
    {
     "data": {
      "text/plain": [
       "<keras.callbacks.History at 0x198a42c4e20>"
      ]
     },
     "execution_count": 38,
     "metadata": {},
     "output_type": "execute_result"
    }
   ],
   "source": [
    "model = Sequential()\n",
    "# our first dense layer\n",
    "model.add(Dense(1024, input_shape=(784,), activation=\"relu\"))\n",
    "# our second dense layer\n",
    "model.add(Dense(512, activation=\"sigmoid\"))\n",
    "# our third dense layer\n",
    "model.add(Dense(256, activation=\"sigmoid\"))\n",
    "# our fourth dense layer\n",
    "model.add(Dense(128, activation=\"sigmoid\"))\n",
    "# our fifth dense layer\n",
    "model.add(Dense(64, activation=\"sigmoid\"))\n",
    "# last layer is the output layer.\n",
    "model.add(Dense(10, activation=\"sigmoid\"))\n",
    "\n",
    "model.compile(optimizer='sgd', loss='categorical_crossentropy',\n",
    "              metrics=['accuracy'])\n",
    "\n",
    "model.fit(X_train, Y_train, batch_size=128, epochs=20, verbose=1)"
   ]
  },
  {
   "cell_type": "code",
   "execution_count": 39,
   "id": "8f691adb",
   "metadata": {},
   "outputs": [
    {
     "name": "stdout",
     "output_type": "stream",
     "text": [
      "Test score: 2.0602667331695557\n",
      "Test accuracy: 0.34630000591278076\n"
     ]
    }
   ],
   "source": [
    "score = model.evaluate(X_test, Y_test, verbose=0)\n",
    "print('Test score:', score[0])\n",
    "print('Test accuracy:', score[1])"
   ]
  },
  {
   "cell_type": "code",
   "execution_count": 37,
   "id": "d76a4b3b",
   "metadata": {
    "scrolled": true
   },
   "outputs": [
    {
     "name": "stdout",
     "output_type": "stream",
     "text": [
      "Epoch 1/20\n",
      "469/469 [==============================] - 3s 5ms/step - loss: 1.0845 - accuracy: 0.6671\n",
      "Epoch 2/20\n",
      "469/469 [==============================] - 2s 5ms/step - loss: 0.5930 - accuracy: 0.7953\n",
      "Epoch 3/20\n",
      "469/469 [==============================] - 2s 5ms/step - loss: 0.5122 - accuracy: 0.8202\n",
      "Epoch 4/20\n",
      "469/469 [==============================] - 2s 5ms/step - loss: 0.4709 - accuracy: 0.8337\n",
      "Epoch 5/20\n",
      "469/469 [==============================] - 2s 5ms/step - loss: 0.4400 - accuracy: 0.8444\n",
      "Epoch 6/20\n",
      "469/469 [==============================] - 2s 5ms/step - loss: 0.4203 - accuracy: 0.8515\n",
      "Epoch 7/20\n",
      "469/469 [==============================] - 2s 5ms/step - loss: 0.4026 - accuracy: 0.8569\n",
      "Epoch 8/20\n",
      "469/469 [==============================] - 2s 5ms/step - loss: 0.3883 - accuracy: 0.8643\n",
      "Epoch 9/20\n",
      "469/469 [==============================] - 2s 5ms/step - loss: 0.3773 - accuracy: 0.8667\n",
      "Epoch 10/20\n",
      "469/469 [==============================] - 2s 5ms/step - loss: 0.3680 - accuracy: 0.8690\n",
      "Epoch 11/20\n",
      "469/469 [==============================] - 2s 5ms/step - loss: 0.3580 - accuracy: 0.8725\n",
      "Epoch 12/20\n",
      "469/469 [==============================] - 2s 5ms/step - loss: 0.3500 - accuracy: 0.8740\n",
      "Epoch 13/20\n",
      "469/469 [==============================] - 2s 5ms/step - loss: 0.3405 - accuracy: 0.8783\n",
      "Epoch 14/20\n",
      "469/469 [==============================] - 2s 5ms/step - loss: 0.3330 - accuracy: 0.8805\n",
      "Epoch 15/20\n",
      "469/469 [==============================] - 2s 5ms/step - loss: 0.3249 - accuracy: 0.8832\n",
      "Epoch 16/20\n",
      "469/469 [==============================] - 2s 5ms/step - loss: 0.3206 - accuracy: 0.8844\n",
      "Epoch 17/20\n",
      "469/469 [==============================] - 2s 5ms/step - loss: 0.3129 - accuracy: 0.8872\n",
      "Epoch 18/20\n",
      "469/469 [==============================] - 2s 5ms/step - loss: 0.3090 - accuracy: 0.8879\n",
      "Epoch 19/20\n",
      "469/469 [==============================] - 2s 5ms/step - loss: 0.3009 - accuracy: 0.8909\n",
      "Epoch 20/20\n",
      "469/469 [==============================] - 2s 5ms/step - loss: 0.2953 - accuracy: 0.8928\n"
     ]
    }
   ],
   "source": [
    "model = Sequential()\n",
    "# our first dense layer\n",
    "model.add(Dense(1024, input_shape=(784,), activation=\"relu\"))\n",
    "# our second dense layer\n",
    "model.add(Dense(512, activation=\"relu\"))\n",
    "# our third dense layer\n",
    "model.add(Dense(256, activation=\"relu\"))\n",
    "# our fourth dense layer\n",
    "model.add(Dense(128, activation=\"relu\"))\n",
    "# our fifth dense layer\n",
    "model.add(Dense(64, activation=\"relu\"))\n",
    "# last layer is the output layer.\n",
    "model.add(Dense(10, activation=\"softmax\"))\n",
    "\n",
    "model.compile(optimizer='sgd', loss='categorical_crossentropy',\n",
    "              metrics=['accuracy'])\n",
    "\n",
    "model_history=model.fit(X_train, Y_train, batch_size=128, epochs=20, verbose=1)"
   ]
  },
  {
   "cell_type": "code",
   "execution_count": 31,
   "id": "41e22e7f",
   "metadata": {},
   "outputs": [
    {
     "name": "stdout",
     "output_type": "stream",
     "text": [
      "Test score: 0.3600456416606903\n",
      "Test accuracy: 0.8682000041007996\n"
     ]
    }
   ],
   "source": [
    "score = model.evaluate(X_test, Y_test, verbose=0)\n",
    "print('Test score:', score[0])\n",
    "print('Test accuracy:', score[1])"
   ]
  },
  {
   "cell_type": "code",
   "execution_count": 41,
   "id": "2648ebed",
   "metadata": {},
   "outputs": [
    {
     "data": {
      "image/png": "[encoded data removed]",
      "text/plain": [
       "<Figure size 432x288 with 1 Axes>"
      ]
     },
     "metadata": {
      "needs_background": "light"
     },
     "output_type": "display_data"
    }
   ],
   "source": [
    "epochs = model_history.params['epochs']\n",
    "x = [i for i in range(1,epochs+1)]\n",
    "acc = model_history.history['accuracy']\n",
    "plt.plot(x, acc, label=\"train_acc\")\n",
    "plt.ylabel(\"accuracy\")\n",
    "plt.xlabel(\"epochs\")\n",
    "plt.legend()\n",
    "plt.show()"
   ]
  },
  {
   "cell_type": "markdown",
   "id": "aa988a3c",
   "metadata": {},
   "source": [
    "# Discussion"
   ]
  },
  {
   "cell_type": "markdown",
   "id": "bc2de917",
   "metadata": {},
   "source": [
    "After training various deep learning models, the most optimal model is the last one with 5 Dense layers with activation = 'relu'. This model gives an accuracy of .87. We can also see from the epoch vs accuracy graph that there is only moderate improvement in accuracy after 7 epochs. Reducing this to 10 epochs will yield a more efficient model."
   ]
  }
 ],
 "metadata": {
  "kernelspec": {
   "display_name": "Python 3 (ipykernel)",
   "language": "python",
   "name": "python3"
  },
  "language_info": {
   "codemirror_mode": {
    "name": "ipython",
    "version": 3
   },
   "file_extension": ".py",
   "mimetype": "text/x-python",
   "name": "python",
   "nbconvert_exporter": "python",
   "pygments_lexer": "ipython3",
   "version": "3.10.0"
  }
 },
 "nbformat": 4,
 "nbformat_minor": 5
}
